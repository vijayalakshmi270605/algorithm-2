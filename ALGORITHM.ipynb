{
 "cells": [
  {
   "cell_type": "code",
   "execution_count": 5,
   "id": "ac26ad77",
   "metadata": {},
   "outputs": [
    {
     "name": "stdout",
     "output_type": "stream",
     "text": [
      "enter mark 1:99\n",
      "enter mark 2:97\n",
      "enter mark 3:99\n",
      "enter mark 4:90\n",
      "enter mark 5:88\n",
      "enter mark 6:90\n",
      "enter mark 7:98\n",
      "enter mark 8:99\n",
      "enter mark 9:100\n",
      "enter mark 10:99\n"
     ]
    }
   ],
   "source": [
    "#acquiring data \n",
    "marks=[]\n",
    "for m in range(1,11):\n",
    "    marks.append(int(input(f\"enter mark {m}:\")))"
   ]
  },
  {
   "cell_type": "code",
   "execution_count": 8,
   "id": "53f57da1",
   "metadata": {},
   "outputs": [
    {
     "data": {
      "text/plain": [
       "95.9"
      ]
     },
     "execution_count": 8,
     "metadata": {},
     "output_type": "execute_result"
    }
   ],
   "source": [
    "avg=sum(marks)/10\n",
    "avg"
   ]
  },
  {
   "cell_type": "code",
   "execution_count": 9,
   "id": "66cc99cf",
   "metadata": {},
   "outputs": [
    {
     "name": "stdout",
     "output_type": "stream",
     "text": [
      "you are pass\n"
     ]
    }
   ],
   "source": [
    "if avg>40:\n",
    "    print(\"you are pass\")\n",
    "else:\n",
    "    print(\"you are fail\")"
   ]
  },
  {
   "cell_type": "markdown",
   "id": "77918525",
   "metadata": {},
   "source": [
    "# 1.creating dataset \n",
    "## data sequence where the desired/searching element is going to be searched"
   ]
  },
  {
   "cell_type": "code",
   "execution_count": 10,
   "id": "94a1467b",
   "metadata": {},
   "outputs": [],
   "source": [
    "data=[16,21,15,7,8,24,9,1,30,10,25,13,26,11,2,5,20,28,18,3]"
   ]
  },
  {
   "cell_type": "code",
   "execution_count": 11,
   "id": "5301a632",
   "metadata": {},
   "outputs": [],
   "source": [
    "data.sort()"
   ]
  },
  {
   "cell_type": "code",
   "execution_count": 12,
   "id": "bdd43fa3",
   "metadata": {},
   "outputs": [
    {
     "name": "stdout",
     "output_type": "stream",
     "text": [
      "[1, 2, 3, 5, 7, 8, 9, 10, 11, 13, 15, 16, 18, 20, 21, 24, 25, 26, 28, 30]\n"
     ]
    }
   ],
   "source": [
    "print(data)"
   ]
  },
  {
   "cell_type": "code",
   "execution_count": 13,
   "id": "bc912a33",
   "metadata": {},
   "outputs": [
    {
     "name": "stdout",
     "output_type": "stream",
     "text": [
      "enter the search element: 40\n"
     ]
    }
   ],
   "source": [
    "element=int(input(\"enter the search element: \"))"
   ]
  },
  {
   "cell_type": "code",
   "execution_count": 28,
   "id": "0c6d2c12",
   "metadata": {},
   "outputs": [
    {
     "ename": "SyntaxError",
     "evalue": "'break' outside loop (2231723803.py, line 8)",
     "output_type": "error",
     "traceback": [
      "\u001b[1;36m  Cell \u001b[1;32mIn[28], line 8\u001b[1;36m\u001b[0m\n\u001b[1;33m    break\u001b[0m\n\u001b[1;37m    ^\u001b[0m\n\u001b[1;31mSyntaxError\u001b[0m\u001b[1;31m:\u001b[0m 'break' outside loop\n"
     ]
    }
   ],
   "source": [
    "def binary_search(data,element):\n",
    "    low=0\n",
    "    high=len(data)-1\n",
    "    while low<= high:\n",
    "         middle=(low+high)//2\n",
    "if data[middle]==element:\n",
    "    print(f\"the searching element {element} is present at index\")\n",
    "    break  \n",
    "elif data[middle] > element:\n",
    "     high = middle-1\n",
    "else:\n",
    "     low=middle+1\n",
    "if data[middle]!=element:\n",
    "     print(f\"the searching element {element}is not present at index\")\n",
    "     \n",
    "                \n",
    "                "
   ]
  },
  {
   "cell_type": "code",
   "execution_count": null,
   "id": "cf773282",
   "metadata": {},
   "outputs": [],
   "source": []
  }
 ],
 "metadata": {
  "kernelspec": {
   "display_name": "Python 3 (ipykernel)",
   "language": "python",
   "name": "python3"
  },
  "language_info": {
   "codemirror_mode": {
    "name": "ipython",
    "version": 3
   },
   "file_extension": ".py",
   "mimetype": "text/x-python",
   "name": "python",
   "nbconvert_exporter": "python",
   "pygments_lexer": "ipython3",
   "version": "3.9.17"
  }
 },
 "nbformat": 4,
 "nbformat_minor": 5
}
