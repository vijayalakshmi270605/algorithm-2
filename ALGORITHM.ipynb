{
 "cells": [
  {
   "cell_type": "code",
   "execution_count": 10,
   "id": "bbd237d4",
   "metadata": {},
   "outputs": [
    {
     "name": "stdout",
     "output_type": "stream",
     "text": [
      "enter mark 1:99\n",
      "enter mark 2:98\n",
      "enter mark 3:98\n",
      "enter mark 4:97\n",
      "enter mark 5:97\n",
      "enter mark 6:96\n",
      "enter mark 7:95\n",
      "enter mark 8:100\n",
      "enter mark 9:99\n",
      "enter mark 10:98\n"
     ]
    }
   ],
   "source": [
    "#acquiring data \n",
    "marks=[]\n",
    "for m in range(1,11):\n",
    "    marks.append(int(input(f\"enter mark {m}:\")))"
   ]
  },
  {
   "cell_type": "code",
   "execution_count": 11,
   "id": "7275c631",
   "metadata": {},
   "outputs": [
    {
     "data": {
      "text/plain": [
       "97.7"
      ]
     },
     "execution_count": 11,
     "metadata": {},
     "output_type": "execute_result"
    }
   ],
   "source": [
    "avg=sum(marks)/10\n",
    "avg"
   ]
  },
  {
   "cell_type": "code",
   "execution_count": 12,
   "id": "b12f527b",
   "metadata": {},
   "outputs": [
    {
     "name": "stdout",
     "output_type": "stream",
     "text": [
      "you are pass\n"
     ]
    }
   ],
   "source": [
    "if avg>40:\n",
    "    print(\"you are pass\")\n",
    "else:\n",
    "    print(\"you are fail\")"
   ]
  },
  {
   "cell_type": "markdown",
   "id": "236a1d31",
   "metadata": {},
   "source": [
    "# 1.creating dataset \n",
    "## data sequence where the desired/searching element is going to be searched"
   ]
  },
  {
   "cell_type": "code",
   "execution_count": 13,
   "id": "e16e090d",
   "metadata": {},
   "outputs": [],
   "source": [
    "data=[16,21,15,7,8,24,9,1,30,10,25,13,26,11,2,5,20,28,18,3]"
   ]
  },
  {
   "cell_type": "code",
   "execution_count": 14,
   "id": "40e0b4dd",
   "metadata": {},
   "outputs": [],
   "source": [
    "data.sort()"
   ]
  },
  {
   "cell_type": "code",
   "execution_count": 15,
   "id": "3b16b18f",
   "metadata": {},
   "outputs": [
    {
     "name": "stdout",
     "output_type": "stream",
     "text": [
      "[1, 2, 3, 5, 7, 8, 9, 10, 11, 13, 15, 16, 18, 20, 21, 24, 25, 26, 28, 30]\n"
     ]
    }
   ],
   "source": [
    "print(data)"
   ]
  },
  {
   "cell_type": "code",
   "execution_count": 16,
   "id": "10659218",
   "metadata": {},
   "outputs": [
    {
     "name": "stdout",
     "output_type": "stream",
     "text": [
      "enter the search element: 20\n"
     ]
    }
   ],
   "source": [
    "element=int(input(\"enter the search element: \"))"
   ]
  },
  {
   "cell_type": "code",
   "execution_count": 19,
   "id": "ddffc05d",
   "metadata": {},
   "outputs": [],
   "source": [
    "def binary_search(data,element):\n",
    "    low=0\n",
    "    high=len(data)-1\n",
    "    while low<= high:\n",
    "        middle=(low+high)//2\n",
    "        if data[middle]==element:\n",
    "            print(f\"the searching element {element} is present at index value {middle} in dataset\")\n",
    "            break \n",
    "        elif data[middle] > element:\n",
    "            high = middle-1\n",
    "        else:\n",
    "            low=middle+1\n",
    "    if data[middle]!=element:\n",
    "        print(f\"the searching element {element} is not present in the dataset\")\n",
    "        return \n",
    "     \n",
    "                \n",
    "                "
   ]
  },
  {
   "cell_type": "code",
   "execution_count": 20,
   "id": "3a9b3a0c",
   "metadata": {},
   "outputs": [
    {
     "name": "stdout",
     "output_type": "stream",
     "text": [
      "the searching element 20 is present at index value 13 in dataset\n"
     ]
    }
   ],
   "source": [
    "binary_search(data,element)"
   ]
  },
  {
   "cell_type": "code",
   "execution_count": null,
   "id": "9aa5b8ee",
   "metadata": {},
   "outputs": [],
   "source": []
  }
 ],
 "metadata": {
  "kernelspec": {
   "display_name": "Python 3 (ipykernel)",
   "language": "python",
   "name": "python3"
  },
  "language_info": {
   "codemirror_mode": {
    "name": "ipython",
    "version": 3
   },
   "file_extension": ".py",
   "mimetype": "text/x-python",
   "name": "python",
   "nbconvert_exporter": "python",
   "pygments_lexer": "ipython3",
   "version": "3.9.17"
  }
 },
 "nbformat": 4,
 "nbformat_minor": 5
}
